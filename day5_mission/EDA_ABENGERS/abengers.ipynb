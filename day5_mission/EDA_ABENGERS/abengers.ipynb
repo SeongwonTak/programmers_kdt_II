{
 "cells": [
  {
   "cell_type": "markdown",
   "metadata": {},
   "source": [
    "# Mission 2. Abengers"
   ]
  },
  {
   "cell_type": "code",
   "execution_count": 1,
   "metadata": {},
   "outputs": [],
   "source": [
    "# Packages\n",
    "import numpy as np\n",
    "import pandas as pd\n",
    "import seaborn as sns\n",
    "import matplotlib.pyplot as plt"
   ]
  },
  {
   "cell_type": "code",
   "execution_count": 2,
   "metadata": {},
   "outputs": [],
   "source": [
    "chars = pd.read_csv('C:/Users/HP/Desktop/work_on_PG/charcters_stats.csv')"
   ]
  },
  {
   "cell_type": "code",
   "execution_count": 25,
   "metadata": {},
   "outputs": [
    {
     "data": {
      "text/html": [
       "<div>\n",
       "<style scoped>\n",
       "    .dataframe tbody tr th:only-of-type {\n",
       "        vertical-align: middle;\n",
       "    }\n",
       "\n",
       "    .dataframe tbody tr th {\n",
       "        vertical-align: top;\n",
       "    }\n",
       "\n",
       "    .dataframe thead th {\n",
       "        text-align: right;\n",
       "    }\n",
       "</style>\n",
       "<table border=\"1\" class=\"dataframe\">\n",
       "  <thead>\n",
       "    <tr style=\"text-align: right;\">\n",
       "      <th></th>\n",
       "      <th>Name</th>\n",
       "      <th>Alignment</th>\n",
       "      <th>Intelligence</th>\n",
       "      <th>Strength</th>\n",
       "      <th>Speed</th>\n",
       "      <th>Durability</th>\n",
       "      <th>Power</th>\n",
       "      <th>Combat</th>\n",
       "      <th>Total</th>\n",
       "    </tr>\n",
       "  </thead>\n",
       "  <tbody>\n",
       "    <tr>\n",
       "      <th>606</th>\n",
       "      <td>Yellowjacket</td>\n",
       "      <td>good</td>\n",
       "      <td>88</td>\n",
       "      <td>10</td>\n",
       "      <td>12</td>\n",
       "      <td>28</td>\n",
       "      <td>12</td>\n",
       "      <td>14</td>\n",
       "      <td>164</td>\n",
       "    </tr>\n",
       "    <tr>\n",
       "      <th>607</th>\n",
       "      <td>Yellowjacket II</td>\n",
       "      <td>good</td>\n",
       "      <td>50</td>\n",
       "      <td>10</td>\n",
       "      <td>35</td>\n",
       "      <td>28</td>\n",
       "      <td>31</td>\n",
       "      <td>28</td>\n",
       "      <td>182</td>\n",
       "    </tr>\n",
       "    <tr>\n",
       "      <th>608</th>\n",
       "      <td>Ymir</td>\n",
       "      <td>good</td>\n",
       "      <td>50</td>\n",
       "      <td>100</td>\n",
       "      <td>27</td>\n",
       "      <td>100</td>\n",
       "      <td>83</td>\n",
       "      <td>28</td>\n",
       "      <td>388</td>\n",
       "    </tr>\n",
       "    <tr>\n",
       "      <th>609</th>\n",
       "      <td>Zatanna</td>\n",
       "      <td>good</td>\n",
       "      <td>75</td>\n",
       "      <td>10</td>\n",
       "      <td>23</td>\n",
       "      <td>28</td>\n",
       "      <td>100</td>\n",
       "      <td>56</td>\n",
       "      <td>292</td>\n",
       "    </tr>\n",
       "    <tr>\n",
       "      <th>610</th>\n",
       "      <td>Zoom</td>\n",
       "      <td>bad</td>\n",
       "      <td>50</td>\n",
       "      <td>10</td>\n",
       "      <td>100</td>\n",
       "      <td>28</td>\n",
       "      <td>72</td>\n",
       "      <td>28</td>\n",
       "      <td>288</td>\n",
       "    </tr>\n",
       "  </tbody>\n",
       "</table>\n",
       "</div>"
      ],
      "text/plain": [
       "                Name Alignment  Intelligence  Strength  Speed  Durability  \\\n",
       "606     Yellowjacket      good            88        10     12          28   \n",
       "607  Yellowjacket II      good            50        10     35          28   \n",
       "608             Ymir      good            50       100     27         100   \n",
       "609          Zatanna      good            75        10     23          28   \n",
       "610             Zoom       bad            50        10    100          28   \n",
       "\n",
       "     Power  Combat  Total  \n",
       "606     12      14    164  \n",
       "607     31      28    182  \n",
       "608     83      28    388  \n",
       "609    100      56    292  \n",
       "610     72      28    288  "
      ]
     },
     "execution_count": 25,
     "metadata": {},
     "output_type": "execute_result"
    }
   ],
   "source": [
    "chars.tail(5)"
   ]
  },
  {
   "cell_type": "code",
   "execution_count": 6,
   "metadata": {},
   "outputs": [
    {
     "data": {
      "text/plain": [
       "Name            0\n",
       "Alignment       3\n",
       "Intelligence    0\n",
       "Strength        0\n",
       "Speed           0\n",
       "Durability      0\n",
       "Power           0\n",
       "Combat          0\n",
       "Total           0\n",
       "dtype: int64"
      ]
     },
     "execution_count": 6,
     "metadata": {},
     "output_type": "execute_result"
    }
   ],
   "source": [
    "# 결측치 검토\n",
    "chars.isna().sum()"
   ]
  },
  {
   "cell_type": "markdown",
   "metadata": {},
   "source": [
    "## 공통사항"
   ]
  },
  {
   "cell_type": "markdown",
   "metadata": {},
   "source": [
    "시각화 작업에서 alignment별로 나눠서 진행해야 하는 상황이 많은데, alignment에 결측치가 존재하면 곤란하다. 편을 줘야하니까."
   ]
  },
  {
   "cell_type": "code",
   "execution_count": 7,
   "metadata": {},
   "outputs": [
    {
     "data": {
      "text/plain": [
       "array(['good', 'bad', nan, 'neutral'], dtype=object)"
      ]
     },
     "execution_count": 7,
     "metadata": {},
     "output_type": "execute_result"
    }
   ],
   "source": [
    "chars.Alignment.unique()"
   ]
  },
  {
   "cell_type": "code",
   "execution_count": 8,
   "metadata": {},
   "outputs": [
    {
     "data": {
      "text/html": [
       "<div>\n",
       "<style scoped>\n",
       "    .dataframe tbody tr th:only-of-type {\n",
       "        vertical-align: middle;\n",
       "    }\n",
       "\n",
       "    .dataframe tbody tr th {\n",
       "        vertical-align: top;\n",
       "    }\n",
       "\n",
       "    .dataframe thead th {\n",
       "        text-align: right;\n",
       "    }\n",
       "</style>\n",
       "<table border=\"1\" class=\"dataframe\">\n",
       "  <thead>\n",
       "    <tr style=\"text-align: right;\">\n",
       "      <th></th>\n",
       "      <th>Name</th>\n",
       "      <th>Alignment</th>\n",
       "      <th>Intelligence</th>\n",
       "      <th>Strength</th>\n",
       "      <th>Speed</th>\n",
       "      <th>Durability</th>\n",
       "      <th>Power</th>\n",
       "      <th>Combat</th>\n",
       "      <th>Total</th>\n",
       "    </tr>\n",
       "  </thead>\n",
       "  <tbody>\n",
       "    <tr>\n",
       "      <th>28</th>\n",
       "      <td>Anti-Venom</td>\n",
       "      <td>NaN</td>\n",
       "      <td>75</td>\n",
       "      <td>60</td>\n",
       "      <td>65</td>\n",
       "      <td>90</td>\n",
       "      <td>85</td>\n",
       "      <td>84</td>\n",
       "      <td>459</td>\n",
       "    </tr>\n",
       "    <tr>\n",
       "      <th>98</th>\n",
       "      <td>Blackwulf</td>\n",
       "      <td>NaN</td>\n",
       "      <td>50</td>\n",
       "      <td>28</td>\n",
       "      <td>8</td>\n",
       "      <td>30</td>\n",
       "      <td>59</td>\n",
       "      <td>25</td>\n",
       "      <td>200</td>\n",
       "    </tr>\n",
       "    <tr>\n",
       "      <th>560</th>\n",
       "      <td>Trickster</td>\n",
       "      <td>NaN</td>\n",
       "      <td>1</td>\n",
       "      <td>1</td>\n",
       "      <td>1</td>\n",
       "      <td>1</td>\n",
       "      <td>0</td>\n",
       "      <td>1</td>\n",
       "      <td>5</td>\n",
       "    </tr>\n",
       "  </tbody>\n",
       "</table>\n",
       "</div>"
      ],
      "text/plain": [
       "           Name Alignment  Intelligence  Strength  Speed  Durability  Power  \\\n",
       "28   Anti-Venom       NaN            75        60     65          90     85   \n",
       "98    Blackwulf       NaN            50        28      8          30     59   \n",
       "560   Trickster       NaN             1         1      1           1      0   \n",
       "\n",
       "     Combat  Total  \n",
       "28       84    459  \n",
       "98       25    200  \n",
       "560       1      5  "
      ]
     },
     "execution_count": 8,
     "metadata": {},
     "output_type": "execute_result"
    }
   ],
   "source": [
    "chars.loc[chars.Alignment.isna()]"
   ]
  },
  {
   "cell_type": "markdown",
   "metadata": {},
   "source": [
    "검색찬스 결과, 딱히 어떤 Alignment가 나오진 않은거 같다. 따라서 얘네들의 Alignment 값을 neutral로 바꾸고 시작하자."
   ]
  },
  {
   "cell_type": "code",
   "execution_count": 3,
   "metadata": {},
   "outputs": [],
   "source": [
    "chars['Alignment'].fillna('neutral', inplace=True)"
   ]
  },
  {
   "cell_type": "code",
   "execution_count": 11,
   "metadata": {},
   "outputs": [
    {
     "data": {
      "text/plain": [
       "Name            0\n",
       "Alignment       0\n",
       "Intelligence    0\n",
       "Strength        0\n",
       "Speed           0\n",
       "Durability      0\n",
       "Power           0\n",
       "Combat          0\n",
       "Total           0\n",
       "dtype: int64"
      ]
     },
     "execution_count": 11,
     "metadata": {},
     "output_type": "execute_result"
    }
   ],
   "source": [
    "chars.isna().sum()"
   ]
  },
  {
   "cell_type": "markdown",
   "metadata": {},
   "source": [
    "Align 결측치가 모두 제거되었으니 미션을 해결해주자."
   ]
  },
  {
   "cell_type": "markdown",
   "metadata": {},
   "source": [
    "## Core 1. Most Total stats"
   ]
  },
  {
   "cell_type": "code",
   "execution_count": 13,
   "metadata": {},
   "outputs": [
    {
     "data": {
      "text/html": [
       "<div>\n",
       "<style scoped>\n",
       "    .dataframe tbody tr th:only-of-type {\n",
       "        vertical-align: middle;\n",
       "    }\n",
       "\n",
       "    .dataframe tbody tr th {\n",
       "        vertical-align: top;\n",
       "    }\n",
       "\n",
       "    .dataframe thead th {\n",
       "        text-align: right;\n",
       "    }\n",
       "</style>\n",
       "<table border=\"1\" class=\"dataframe\">\n",
       "  <thead>\n",
       "    <tr style=\"text-align: right;\">\n",
       "      <th></th>\n",
       "      <th>Name</th>\n",
       "      <th>Alignment</th>\n",
       "      <th>Intelligence</th>\n",
       "      <th>Strength</th>\n",
       "      <th>Speed</th>\n",
       "      <th>Durability</th>\n",
       "      <th>Power</th>\n",
       "      <th>Combat</th>\n",
       "      <th>Total</th>\n",
       "    </tr>\n",
       "  </thead>\n",
       "  <tbody>\n",
       "    <tr>\n",
       "      <th>361</th>\n",
       "      <td>Martian Manhunter</td>\n",
       "      <td>good</td>\n",
       "      <td>100</td>\n",
       "      <td>100</td>\n",
       "      <td>96</td>\n",
       "      <td>100</td>\n",
       "      <td>100</td>\n",
       "      <td>85</td>\n",
       "      <td>581</td>\n",
       "    </tr>\n",
       "    <tr>\n",
       "      <th>242</th>\n",
       "      <td>General Zod</td>\n",
       "      <td>bad</td>\n",
       "      <td>94</td>\n",
       "      <td>100</td>\n",
       "      <td>96</td>\n",
       "      <td>100</td>\n",
       "      <td>94</td>\n",
       "      <td>95</td>\n",
       "      <td>579</td>\n",
       "    </tr>\n",
       "    <tr>\n",
       "      <th>535</th>\n",
       "      <td>Superboy-Prime</td>\n",
       "      <td>bad</td>\n",
       "      <td>94</td>\n",
       "      <td>100</td>\n",
       "      <td>100</td>\n",
       "      <td>100</td>\n",
       "      <td>100</td>\n",
       "      <td>85</td>\n",
       "      <td>579</td>\n",
       "    </tr>\n",
       "    <tr>\n",
       "      <th>537</th>\n",
       "      <td>Superman</td>\n",
       "      <td>good</td>\n",
       "      <td>100</td>\n",
       "      <td>100</td>\n",
       "      <td>100</td>\n",
       "      <td>100</td>\n",
       "      <td>94</td>\n",
       "      <td>85</td>\n",
       "      <td>579</td>\n",
       "    </tr>\n",
       "    <tr>\n",
       "      <th>16</th>\n",
       "      <td>Amazo</td>\n",
       "      <td>bad</td>\n",
       "      <td>75</td>\n",
       "      <td>100</td>\n",
       "      <td>100</td>\n",
       "      <td>100</td>\n",
       "      <td>100</td>\n",
       "      <td>100</td>\n",
       "      <td>575</td>\n",
       "    </tr>\n",
       "    <tr>\n",
       "      <th>...</th>\n",
       "      <td>...</td>\n",
       "      <td>...</td>\n",
       "      <td>...</td>\n",
       "      <td>...</td>\n",
       "      <td>...</td>\n",
       "      <td>...</td>\n",
       "      <td>...</td>\n",
       "      <td>...</td>\n",
       "      <td>...</td>\n",
       "    </tr>\n",
       "    <tr>\n",
       "      <th>462</th>\n",
       "      <td>Renata Soliz</td>\n",
       "      <td>good</td>\n",
       "      <td>1</td>\n",
       "      <td>1</td>\n",
       "      <td>1</td>\n",
       "      <td>1</td>\n",
       "      <td>0</td>\n",
       "      <td>1</td>\n",
       "      <td>5</td>\n",
       "    </tr>\n",
       "    <tr>\n",
       "      <th>137</th>\n",
       "      <td>Captain Mar-vell</td>\n",
       "      <td>good</td>\n",
       "      <td>1</td>\n",
       "      <td>1</td>\n",
       "      <td>1</td>\n",
       "      <td>1</td>\n",
       "      <td>0</td>\n",
       "      <td>1</td>\n",
       "      <td>5</td>\n",
       "    </tr>\n",
       "    <tr>\n",
       "      <th>136</th>\n",
       "      <td>Captain Epic</td>\n",
       "      <td>good</td>\n",
       "      <td>1</td>\n",
       "      <td>1</td>\n",
       "      <td>1</td>\n",
       "      <td>1</td>\n",
       "      <td>0</td>\n",
       "      <td>1</td>\n",
       "      <td>5</td>\n",
       "    </tr>\n",
       "    <tr>\n",
       "      <th>466</th>\n",
       "      <td>Ripcord</td>\n",
       "      <td>good</td>\n",
       "      <td>1</td>\n",
       "      <td>1</td>\n",
       "      <td>1</td>\n",
       "      <td>1</td>\n",
       "      <td>0</td>\n",
       "      <td>1</td>\n",
       "      <td>5</td>\n",
       "    </tr>\n",
       "    <tr>\n",
       "      <th>335</th>\n",
       "      <td>Lady Deathstrike</td>\n",
       "      <td>bad</td>\n",
       "      <td>1</td>\n",
       "      <td>1</td>\n",
       "      <td>1</td>\n",
       "      <td>1</td>\n",
       "      <td>0</td>\n",
       "      <td>1</td>\n",
       "      <td>5</td>\n",
       "    </tr>\n",
       "  </tbody>\n",
       "</table>\n",
       "<p>611 rows × 9 columns</p>\n",
       "</div>"
      ],
      "text/plain": [
       "                  Name Alignment  Intelligence  Strength  Speed  Durability  \\\n",
       "361  Martian Manhunter      good           100       100     96         100   \n",
       "242        General Zod       bad            94       100     96         100   \n",
       "535     Superboy-Prime       bad            94       100    100         100   \n",
       "537           Superman      good           100       100    100         100   \n",
       "16               Amazo       bad            75       100    100         100   \n",
       "..                 ...       ...           ...       ...    ...         ...   \n",
       "462       Renata Soliz      good             1         1      1           1   \n",
       "137   Captain Mar-vell      good             1         1      1           1   \n",
       "136       Captain Epic      good             1         1      1           1   \n",
       "466            Ripcord      good             1         1      1           1   \n",
       "335   Lady Deathstrike       bad             1         1      1           1   \n",
       "\n",
       "     Power  Combat  Total  \n",
       "361    100      85    581  \n",
       "242     94      95    579  \n",
       "535    100      85    579  \n",
       "537     94      85    579  \n",
       "16     100     100    575  \n",
       "..     ...     ...    ...  \n",
       "462      0       1      5  \n",
       "137      0       1      5  \n",
       "136      0       1      5  \n",
       "466      0       1      5  \n",
       "335      0       1      5  \n",
       "\n",
       "[611 rows x 9 columns]"
      ]
     },
     "execution_count": 13,
     "metadata": {},
     "output_type": "execute_result"
    }
   ],
   "source": [
    "chars.sort_values(by=['Total'], ascending = False)"
   ]
  },
  {
   "cell_type": "markdown",
   "metadata": {},
   "source": [
    "수치의 합이 가장 높은 캐릭터는 **Martian Manhuneter.**"
   ]
  },
  {
   "cell_type": "markdown",
   "metadata": {},
   "source": [
    "## Core 2. Good vs Bad,  Extra 2. Neutral의 개입"
   ]
  },
  {
   "cell_type": "markdown",
   "metadata": {},
   "source": [
    "두 문제를 동시에 풀기가 좋으므로, 두 문제를 동시에 풀어보자"
   ]
  },
  {
   "cell_type": "code",
   "execution_count": 4,
   "metadata": {},
   "outputs": [],
   "source": [
    "good = chars.loc[chars['Alignment'] == 'good']\n",
    "bad = chars.loc[chars['Alignment'] == 'bad']\n",
    "neutral = chars.loc[chars['Alignment'] == 'neutral']"
   ]
  },
  {
   "cell_type": "code",
   "execution_count": 19,
   "metadata": {},
   "outputs": [
    {
     "data": {
      "text/plain": [
       "Alignment\n",
       "bad        40790\n",
       "good       92876\n",
       "neutral     4573\n",
       "Name: Total, dtype: int64"
      ]
     },
     "execution_count": 19,
     "metadata": {},
     "output_type": "execute_result"
    }
   ],
   "source": [
    "chars['Total'].groupby(by = chars['Alignment']).sum()"
   ]
  },
  {
   "cell_type": "code",
   "execution_count": 20,
   "metadata": {},
   "outputs": [
    {
     "data": {
      "text/plain": [
       "Alignment\n",
       "bad        165\n",
       "good       432\n",
       "neutral     14\n",
       "Name: Total, dtype: int64"
      ]
     },
     "execution_count": 20,
     "metadata": {},
     "output_type": "execute_result"
    }
   ],
   "source": [
    "chars['Total'].groupby(by = chars['Alignment']).count()"
   ]
  },
  {
   "cell_type": "markdown",
   "metadata": {},
   "source": [
    "각 진영별로 토탈 파워의 합계와, 캐릭터 수를 확인하였다. 그러면 중립의 개입 전 승패부터 확인해보자"
   ]
  },
  {
   "cell_type": "code",
   "execution_count": 21,
   "metadata": {},
   "outputs": [
    {
     "name": "stdout",
     "output_type": "stream",
     "text": [
      "bad avg = 247.212\n",
      "good avg = 214.991\n"
     ]
    }
   ],
   "source": [
    "print('bad avg = %.3f' %(40790/165))\n",
    "print('good avg = %.3f' %(92876/432))"
   ]
  },
  {
   "cell_type": "markdown",
   "metadata": {},
   "source": [
    "bad 진영의 평균 total stat이 더 높아서 중립은 good으로 붙게 된다. 이러면 이길수 있나 보자"
   ]
  },
  {
   "cell_type": "code",
   "execution_count": 24,
   "metadata": {},
   "outputs": [
    {
     "name": "stdout",
     "output_type": "stream",
     "text": [
      "bad new avg = 247.212\n",
      "good new avg = 218.496\n"
     ]
    }
   ],
   "source": [
    "print('bad new avg = %.3f' %(40790/165))\n",
    "print('good new avg = %.3f' %((92876+4573)/(432+14)))"
   ]
  },
  {
   "cell_type": "markdown",
   "metadata": {},
   "source": [
    "어림도 없다.. 결국은 선이 승리하지 못했다. 선이 어디서 부족한 부분이 있는지 확인해보자."
   ]
  },
  {
   "cell_type": "code",
   "execution_count": 26,
   "metadata": {},
   "outputs": [
    {
     "data": {
      "text/html": [
       "<div>\n",
       "<style scoped>\n",
       "    .dataframe tbody tr th:only-of-type {\n",
       "        vertical-align: middle;\n",
       "    }\n",
       "\n",
       "    .dataframe tbody tr th {\n",
       "        vertical-align: top;\n",
       "    }\n",
       "\n",
       "    .dataframe thead th {\n",
       "        text-align: right;\n",
       "    }\n",
       "</style>\n",
       "<table border=\"1\" class=\"dataframe\">\n",
       "  <thead>\n",
       "    <tr style=\"text-align: right;\">\n",
       "      <th></th>\n",
       "      <th>Intelligence</th>\n",
       "      <th>Strength</th>\n",
       "      <th>Speed</th>\n",
       "      <th>Durability</th>\n",
       "      <th>Power</th>\n",
       "      <th>Combat</th>\n",
       "      <th>Total</th>\n",
       "    </tr>\n",
       "  </thead>\n",
       "  <tbody>\n",
       "    <tr>\n",
       "      <th>count</th>\n",
       "      <td>611.000000</td>\n",
       "      <td>611.000000</td>\n",
       "      <td>611.000000</td>\n",
       "      <td>611.000000</td>\n",
       "      <td>611.000000</td>\n",
       "      <td>611.000000</td>\n",
       "      <td>611.000000</td>\n",
       "    </tr>\n",
       "    <tr>\n",
       "      <th>mean</th>\n",
       "      <td>44.502455</td>\n",
       "      <td>29.083470</td>\n",
       "      <td>27.306056</td>\n",
       "      <td>41.839607</td>\n",
       "      <td>40.312602</td>\n",
       "      <td>43.206219</td>\n",
       "      <td>226.250409</td>\n",
       "    </tr>\n",
       "    <tr>\n",
       "      <th>std</th>\n",
       "      <td>32.924722</td>\n",
       "      <td>32.610939</td>\n",
       "      <td>25.760173</td>\n",
       "      <td>36.543849</td>\n",
       "      <td>34.539910</td>\n",
       "      <td>33.270329</td>\n",
       "      <td>167.324034</td>\n",
       "    </tr>\n",
       "    <tr>\n",
       "      <th>min</th>\n",
       "      <td>1.000000</td>\n",
       "      <td>1.000000</td>\n",
       "      <td>1.000000</td>\n",
       "      <td>1.000000</td>\n",
       "      <td>0.000000</td>\n",
       "      <td>1.000000</td>\n",
       "      <td>5.000000</td>\n",
       "    </tr>\n",
       "    <tr>\n",
       "      <th>25%</th>\n",
       "      <td>1.000000</td>\n",
       "      <td>1.000000</td>\n",
       "      <td>1.000000</td>\n",
       "      <td>1.000000</td>\n",
       "      <td>0.000000</td>\n",
       "      <td>1.000000</td>\n",
       "      <td>5.000000</td>\n",
       "    </tr>\n",
       "    <tr>\n",
       "      <th>50%</th>\n",
       "      <td>50.000000</td>\n",
       "      <td>10.000000</td>\n",
       "      <td>23.000000</td>\n",
       "      <td>32.000000</td>\n",
       "      <td>37.000000</td>\n",
       "      <td>50.000000</td>\n",
       "      <td>255.000000</td>\n",
       "    </tr>\n",
       "    <tr>\n",
       "      <th>75%</th>\n",
       "      <td>75.000000</td>\n",
       "      <td>53.000000</td>\n",
       "      <td>42.000000</td>\n",
       "      <td>80.000000</td>\n",
       "      <td>67.000000</td>\n",
       "      <td>70.000000</td>\n",
       "      <td>351.500000</td>\n",
       "    </tr>\n",
       "    <tr>\n",
       "      <th>max</th>\n",
       "      <td>113.000000</td>\n",
       "      <td>100.000000</td>\n",
       "      <td>100.000000</td>\n",
       "      <td>120.000000</td>\n",
       "      <td>100.000000</td>\n",
       "      <td>101.000000</td>\n",
       "      <td>581.000000</td>\n",
       "    </tr>\n",
       "  </tbody>\n",
       "</table>\n",
       "</div>"
      ],
      "text/plain": [
       "       Intelligence    Strength       Speed  Durability       Power  \\\n",
       "count    611.000000  611.000000  611.000000  611.000000  611.000000   \n",
       "mean      44.502455   29.083470   27.306056   41.839607   40.312602   \n",
       "std       32.924722   32.610939   25.760173   36.543849   34.539910   \n",
       "min        1.000000    1.000000    1.000000    1.000000    0.000000   \n",
       "25%        1.000000    1.000000    1.000000    1.000000    0.000000   \n",
       "50%       50.000000   10.000000   23.000000   32.000000   37.000000   \n",
       "75%       75.000000   53.000000   42.000000   80.000000   67.000000   \n",
       "max      113.000000  100.000000  100.000000  120.000000  100.000000   \n",
       "\n",
       "           Combat       Total  \n",
       "count  611.000000  611.000000  \n",
       "mean    43.206219  226.250409  \n",
       "std     33.270329  167.324034  \n",
       "min      1.000000    5.000000  \n",
       "25%      1.000000    5.000000  \n",
       "50%     50.000000  255.000000  \n",
       "75%     70.000000  351.500000  \n",
       "max    101.000000  581.000000  "
      ]
     },
     "execution_count": 26,
     "metadata": {},
     "output_type": "execute_result"
    }
   ],
   "source": [
    "chars.describe()"
   ]
  },
  {
   "cell_type": "markdown",
   "metadata": {},
   "source": [
    "Total의 경우는 5가 최소, 581이 최대이다."
   ]
  },
  {
   "cell_type": "code",
   "execution_count": 63,
   "metadata": {},
   "outputs": [
    {
     "data": {
      "image/png": "[encoded data removed]",
      "text/plain": [
       "<Figure size 432x288 with 1 Axes>"
      ]
     },
     "metadata": {
      "needs_background": "light"
     },
     "output_type": "display_data"
    }
   ],
   "source": [
    "bins = np.linspace(0, 600, 31)\n",
    "plt.hist(good['Total'], bins, alpha = 0.5, label = 'good')\n",
    "plt.hist(bad['Total'], bins, alpha = 0.5, label = 'bad')\n",
    "plt.legend(loc = 'upper right')\n",
    "plt.title('Good vs Bad, Total Power')\n",
    "plt.show()"
   ]
  },
  {
   "cell_type": "markdown",
   "metadata": {},
   "source": [
    "그래프를 확인해본 결과, 0~30 사이에서 good 진영에 Total stat이 매우 낮은 캐릭터들이 보인다. 이들의 합세에 의해 평균 power가 떨어진 현상이 발생했음을 확인할 수 있다. 무능력한(?) 이 사람들의 탓인지는, bins를 조절해서 알아보자."
   ]
  },
  {
   "cell_type": "code",
   "execution_count": 70,
   "metadata": {},
   "outputs": [
    {
     "data": {
      "image/png": "[encoded data removed]",
      "text/plain": [
       "<Figure size 432x288 with 1 Axes>"
      ]
     },
     "metadata": {
      "needs_background": "light"
     },
     "output_type": "display_data"
    }
   ],
   "source": [
    "bins = np.linspace(30, 600, 30)\n",
    "plt.hist(good['Total'], bins, alpha = 0.5, label = 'good')\n",
    "plt.hist(bad['Total'], bins, alpha = 0.5, label = 'bad')\n",
    "plt.xlabel('total')\n",
    "plt.ylabel('value')\n",
    "plt.legend(loc = 'upper right')\n",
    "plt.title('Good vs Bad, Total Power(>=30)')\n",
    "plt.show()"
   ]
  },
  {
   "cell_type": "markdown",
   "metadata": {},
   "source": [
    "딱봐도 스탯이 일정 값 이상(여기서는 30)인 경우에 한해서는 good측이 bad에 밀리지 않는다. "
   ]
  },
  {
   "cell_type": "markdown",
   "metadata": {},
   "source": [
    "스텟이 30 이하인 캐릭터의 비중이 어느정도인지, 수치적으로 확인해보면 다음과 같다."
   ]
  },
  {
   "cell_type": "code",
   "execution_count": 54,
   "metadata": {},
   "outputs": [
    {
     "name": "stdout",
     "output_type": "stream",
     "text": [
      "Ratio of weak Good Aligh(power < 30)\n",
      "0.30787037037037035\n",
      "Ratio of weak Bad Aligh(power < 30)\n",
      "0.2606060606060606\n"
     ]
    }
   ],
   "source": [
    "print('Ratio of weak Good Aligh(power < 30)')\n",
    "print(len(good.loc[good['Total']<30])/len(good))\n",
    "print('Ratio of weak Bad Aligh(power < 30)')\n",
    "print(len(bad.loc[bad['Total']<30])/len(bad))"
   ]
  },
  {
   "cell_type": "markdown",
   "metadata": {},
   "source": [
    "비슷한 그림을 각 스탯별로도 비교해볼 수 있다."
   ]
  },
  {
   "cell_type": "code",
   "execution_count": 76,
   "metadata": {},
   "outputs": [
    {
     "data": {
      "image/png": "[encoded data removed]",
      "text/plain": [
       "<Figure size 1296x864 with 6 Axes>"
      ]
     },
     "metadata": {
      "needs_background": "light"
     },
     "output_type": "display_data"
    }
   ],
   "source": [
    "plt.figure(figsize = (18, 12))\n",
    "bins = np.linspace(0, 120, 13)\n",
    "\n",
    "plt.subplot(231)\n",
    "plt.hist(good['Intelligence'], bins, alpha = 0.5, label = 'good')\n",
    "plt.hist(bad['Intelligence'], bins, alpha = 0.5, label = 'bad')\n",
    "plt.xlabel('Intelligence')\n",
    "plt.ylabel('value')\n",
    "plt.legend(loc = 'upper right')\n",
    "plt.title('Good vs Bad, Intelligence')\n",
    "\n",
    "plt.subplot(232)\n",
    "plt.hist(good['Strength'], bins, alpha = 0.5, label = 'good')\n",
    "plt.hist(bad['Strength'], bins, alpha = 0.5, label = 'bad')\n",
    "plt.xlabel('Strength')\n",
    "plt.ylabel('value')\n",
    "plt.legend(loc = 'upper right')\n",
    "plt.title('Good vs Bad, Strength')\n",
    "\n",
    "plt.subplot(233)\n",
    "plt.hist(good['Speed'], bins, alpha = 0.5, label = 'good')\n",
    "plt.hist(bad['Speed'], bins, alpha = 0.5, label = 'bad')\n",
    "plt.xlabel('Speed')\n",
    "plt.ylabel('value')\n",
    "plt.legend(loc = 'upper right')\n",
    "plt.title('Good vs Bad, Speed')\n",
    "\n",
    "plt.subplot(234)\n",
    "plt.hist(good['Durability'], bins, alpha = 0.5, label = 'good')\n",
    "plt.hist(bad['Durability'], bins, alpha = 0.5, label = 'bad')\n",
    "plt.xlabel('Durability')\n",
    "plt.ylabel('value')\n",
    "plt.legend(loc = 'upper right')\n",
    "plt.title('Good vs Bad, Durability')\n",
    "\n",
    "plt.subplot(235)\n",
    "plt.hist(good['Power'], bins, alpha = 0.5, label = 'good')\n",
    "plt.hist(bad['Power'], bins, alpha = 0.5, label = 'bad')\n",
    "plt.xlabel('Power')\n",
    "plt.ylabel('value')\n",
    "plt.legend(loc = 'upper right')\n",
    "plt.title('Good vs Bad, Power')\n",
    "\n",
    "plt.subplot(236)\n",
    "plt.hist(good['Combat'], bins, alpha = 0.5, label = 'good')\n",
    "plt.hist(bad['Combat'], bins, alpha = 0.5, label = 'bad')\n",
    "plt.xlabel('Combat')\n",
    "plt.ylabel('value')\n",
    "plt.legend(loc = 'upper right')\n",
    "plt.title('Good vs Bad, Combat')\n",
    "\n",
    "plt.show()"
   ]
  },
  {
   "cell_type": "markdown",
   "metadata": {},
   "source": [
    "## Bonus 1. 만화사별 비교"
   ]
  },
  {
   "cell_type": "markdown",
   "metadata": {},
   "source": [
    "아! 아쉽게도 만화사 관련 데이터는 주어진 데이터에 없다. 다행히 과제 링크의 데이터에 다른 데이터가 주어져있어 이를 활용해보자."
   ]
  },
  {
   "cell_type": "code",
   "execution_count": 5,
   "metadata": {},
   "outputs": [],
   "source": [
    "infos = pd.read_csv('C:/Users/HP/Desktop/work_on_PG/marvel_characters_info.csv')"
   ]
  },
  {
   "cell_type": "code",
   "execution_count": 6,
   "metadata": {},
   "outputs": [
    {
     "data": {
      "text/html": [
       "<div>\n",
       "<style scoped>\n",
       "    .dataframe tbody tr th:only-of-type {\n",
       "        vertical-align: middle;\n",
       "    }\n",
       "\n",
       "    .dataframe tbody tr th {\n",
       "        vertical-align: top;\n",
       "    }\n",
       "\n",
       "    .dataframe thead th {\n",
       "        text-align: right;\n",
       "    }\n",
       "</style>\n",
       "<table border=\"1\" class=\"dataframe\">\n",
       "  <thead>\n",
       "    <tr style=\"text-align: right;\">\n",
       "      <th></th>\n",
       "      <th>ID</th>\n",
       "      <th>Name</th>\n",
       "      <th>Alignment</th>\n",
       "      <th>Gender</th>\n",
       "      <th>EyeColor</th>\n",
       "      <th>Race</th>\n",
       "      <th>HairColor</th>\n",
       "      <th>Publisher</th>\n",
       "      <th>SkinColor</th>\n",
       "      <th>Height</th>\n",
       "      <th>Weight</th>\n",
       "    </tr>\n",
       "  </thead>\n",
       "  <tbody>\n",
       "    <tr>\n",
       "      <th>729</th>\n",
       "      <td>729</td>\n",
       "      <td>Yellowjacket II</td>\n",
       "      <td>good</td>\n",
       "      <td>Female</td>\n",
       "      <td>blue</td>\n",
       "      <td>Human</td>\n",
       "      <td>Strawberry Blond</td>\n",
       "      <td>Marvel Comics</td>\n",
       "      <td>-</td>\n",
       "      <td>165.0</td>\n",
       "      <td>52.0</td>\n",
       "    </tr>\n",
       "    <tr>\n",
       "      <th>730</th>\n",
       "      <td>730</td>\n",
       "      <td>Ymir</td>\n",
       "      <td>good</td>\n",
       "      <td>Male</td>\n",
       "      <td>white</td>\n",
       "      <td>Frost Giant</td>\n",
       "      <td>No Hair</td>\n",
       "      <td>Marvel Comics</td>\n",
       "      <td>white</td>\n",
       "      <td>304.8</td>\n",
       "      <td>-99.0</td>\n",
       "    </tr>\n",
       "    <tr>\n",
       "      <th>731</th>\n",
       "      <td>731</td>\n",
       "      <td>Yoda</td>\n",
       "      <td>good</td>\n",
       "      <td>Male</td>\n",
       "      <td>brown</td>\n",
       "      <td>Yoda's species</td>\n",
       "      <td>White</td>\n",
       "      <td>George Lucas</td>\n",
       "      <td>green</td>\n",
       "      <td>66.0</td>\n",
       "      <td>17.0</td>\n",
       "    </tr>\n",
       "    <tr>\n",
       "      <th>732</th>\n",
       "      <td>732</td>\n",
       "      <td>Zatanna</td>\n",
       "      <td>good</td>\n",
       "      <td>Female</td>\n",
       "      <td>blue</td>\n",
       "      <td>Human</td>\n",
       "      <td>Black</td>\n",
       "      <td>DC Comics</td>\n",
       "      <td>-</td>\n",
       "      <td>170.0</td>\n",
       "      <td>57.0</td>\n",
       "    </tr>\n",
       "    <tr>\n",
       "      <th>733</th>\n",
       "      <td>733</td>\n",
       "      <td>Zoom</td>\n",
       "      <td>bad</td>\n",
       "      <td>Male</td>\n",
       "      <td>red</td>\n",
       "      <td>-</td>\n",
       "      <td>Brown</td>\n",
       "      <td>DC Comics</td>\n",
       "      <td>-</td>\n",
       "      <td>185.0</td>\n",
       "      <td>81.0</td>\n",
       "    </tr>\n",
       "  </tbody>\n",
       "</table>\n",
       "</div>"
      ],
      "text/plain": [
       "      ID             Name Alignment  Gender EyeColor            Race  \\\n",
       "729  729  Yellowjacket II      good  Female     blue           Human   \n",
       "730  730             Ymir      good    Male    white     Frost Giant   \n",
       "731  731             Yoda      good    Male    brown  Yoda's species   \n",
       "732  732          Zatanna      good  Female     blue           Human   \n",
       "733  733             Zoom       bad    Male      red               -   \n",
       "\n",
       "            HairColor      Publisher SkinColor  Height  Weight  \n",
       "729  Strawberry Blond  Marvel Comics         -   165.0    52.0  \n",
       "730           No Hair  Marvel Comics     white   304.8   -99.0  \n",
       "731             White   George Lucas     green    66.0    17.0  \n",
       "732             Black      DC Comics         -   170.0    57.0  \n",
       "733             Brown      DC Comics         -   185.0    81.0  "
      ]
     },
     "execution_count": 6,
     "metadata": {},
     "output_type": "execute_result"
    }
   ],
   "source": [
    "infos.tail(5)"
   ]
  },
  {
   "cell_type": "code",
   "execution_count": 7,
   "metadata": {},
   "outputs": [
    {
     "data": {
      "text/html": [
       "<div>\n",
       "<style scoped>\n",
       "    .dataframe tbody tr th:only-of-type {\n",
       "        vertical-align: middle;\n",
       "    }\n",
       "\n",
       "    .dataframe tbody tr th {\n",
       "        vertical-align: top;\n",
       "    }\n",
       "\n",
       "    .dataframe thead th {\n",
       "        text-align: right;\n",
       "    }\n",
       "</style>\n",
       "<table border=\"1\" class=\"dataframe\">\n",
       "  <thead>\n",
       "    <tr style=\"text-align: right;\">\n",
       "      <th></th>\n",
       "      <th>Name</th>\n",
       "      <th>Alignment</th>\n",
       "      <th>Intelligence</th>\n",
       "      <th>Strength</th>\n",
       "      <th>Speed</th>\n",
       "      <th>Durability</th>\n",
       "      <th>Power</th>\n",
       "      <th>Combat</th>\n",
       "      <th>Total</th>\n",
       "    </tr>\n",
       "  </thead>\n",
       "  <tbody>\n",
       "    <tr>\n",
       "      <th>606</th>\n",
       "      <td>Yellowjacket</td>\n",
       "      <td>good</td>\n",
       "      <td>88</td>\n",
       "      <td>10</td>\n",
       "      <td>12</td>\n",
       "      <td>28</td>\n",
       "      <td>12</td>\n",
       "      <td>14</td>\n",
       "      <td>164</td>\n",
       "    </tr>\n",
       "    <tr>\n",
       "      <th>607</th>\n",
       "      <td>Yellowjacket II</td>\n",
       "      <td>good</td>\n",
       "      <td>50</td>\n",
       "      <td>10</td>\n",
       "      <td>35</td>\n",
       "      <td>28</td>\n",
       "      <td>31</td>\n",
       "      <td>28</td>\n",
       "      <td>182</td>\n",
       "    </tr>\n",
       "    <tr>\n",
       "      <th>608</th>\n",
       "      <td>Ymir</td>\n",
       "      <td>good</td>\n",
       "      <td>50</td>\n",
       "      <td>100</td>\n",
       "      <td>27</td>\n",
       "      <td>100</td>\n",
       "      <td>83</td>\n",
       "      <td>28</td>\n",
       "      <td>388</td>\n",
       "    </tr>\n",
       "    <tr>\n",
       "      <th>609</th>\n",
       "      <td>Zatanna</td>\n",
       "      <td>good</td>\n",
       "      <td>75</td>\n",
       "      <td>10</td>\n",
       "      <td>23</td>\n",
       "      <td>28</td>\n",
       "      <td>100</td>\n",
       "      <td>56</td>\n",
       "      <td>292</td>\n",
       "    </tr>\n",
       "    <tr>\n",
       "      <th>610</th>\n",
       "      <td>Zoom</td>\n",
       "      <td>bad</td>\n",
       "      <td>50</td>\n",
       "      <td>10</td>\n",
       "      <td>100</td>\n",
       "      <td>28</td>\n",
       "      <td>72</td>\n",
       "      <td>28</td>\n",
       "      <td>288</td>\n",
       "    </tr>\n",
       "  </tbody>\n",
       "</table>\n",
       "</div>"
      ],
      "text/plain": [
       "                Name Alignment  Intelligence  Strength  Speed  Durability  \\\n",
       "606     Yellowjacket      good            88        10     12          28   \n",
       "607  Yellowjacket II      good            50        10     35          28   \n",
       "608             Ymir      good            50       100     27         100   \n",
       "609          Zatanna      good            75        10     23          28   \n",
       "610             Zoom       bad            50        10    100          28   \n",
       "\n",
       "     Power  Combat  Total  \n",
       "606     12      14    164  \n",
       "607     31      28    182  \n",
       "608     83      28    388  \n",
       "609    100      56    292  \n",
       "610     72      28    288  "
      ]
     },
     "execution_count": 7,
     "metadata": {},
     "output_type": "execute_result"
    }
   ],
   "source": [
    "chars.tail(5)"
   ]
  },
  {
   "cell_type": "markdown",
   "metadata": {},
   "source": [
    "난관이 생겼다. 그냥은 합칠수가 없다. 심지어 info에는 Yoda가 있는데, 오늘의 스탯 데이터엔 요다가 없다...\n",
    "하지만 우리는 chars를 메인으로 기준으로 데이터를 합쳐야 한다."
   ]
  },
  {
   "cell_type": "code",
   "execution_count": 8,
   "metadata": {},
   "outputs": [],
   "source": [
    "# 그 전에 info에서 쓸 데이터만 추리기\n",
    "infos = infos[['Name', 'Gender', 'Publisher', 'Height', 'Weight', 'Race']]"
   ]
  },
  {
   "cell_type": "code",
   "execution_count": 9,
   "metadata": {},
   "outputs": [],
   "source": [
    "merged_chars = pd.merge(chars, infos, how='inner', on = 'Name')"
   ]
  },
  {
   "cell_type": "code",
   "execution_count": 10,
   "metadata": {},
   "outputs": [
    {
     "data": {
      "text/html": [
       "<div>\n",
       "<style scoped>\n",
       "    .dataframe tbody tr th:only-of-type {\n",
       "        vertical-align: middle;\n",
       "    }\n",
       "\n",
       "    .dataframe tbody tr th {\n",
       "        vertical-align: top;\n",
       "    }\n",
       "\n",
       "    .dataframe thead th {\n",
       "        text-align: right;\n",
       "    }\n",
       "</style>\n",
       "<table border=\"1\" class=\"dataframe\">\n",
       "  <thead>\n",
       "    <tr style=\"text-align: right;\">\n",
       "      <th></th>\n",
       "      <th>Name</th>\n",
       "      <th>Alignment</th>\n",
       "      <th>Intelligence</th>\n",
       "      <th>Strength</th>\n",
       "      <th>Speed</th>\n",
       "      <th>Durability</th>\n",
       "      <th>Power</th>\n",
       "      <th>Combat</th>\n",
       "      <th>Total</th>\n",
       "      <th>Gender</th>\n",
       "      <th>Publisher</th>\n",
       "      <th>Height</th>\n",
       "      <th>Weight</th>\n",
       "      <th>Race</th>\n",
       "    </tr>\n",
       "  </thead>\n",
       "  <tbody>\n",
       "    <tr>\n",
       "      <th>0</th>\n",
       "      <td>A-Bomb</td>\n",
       "      <td>good</td>\n",
       "      <td>38</td>\n",
       "      <td>100</td>\n",
       "      <td>17</td>\n",
       "      <td>80</td>\n",
       "      <td>17</td>\n",
       "      <td>64</td>\n",
       "      <td>316</td>\n",
       "      <td>Male</td>\n",
       "      <td>Marvel Comics</td>\n",
       "      <td>203.0</td>\n",
       "      <td>441.0</td>\n",
       "      <td>Human</td>\n",
       "    </tr>\n",
       "    <tr>\n",
       "      <th>1</th>\n",
       "      <td>Abe Sapien</td>\n",
       "      <td>good</td>\n",
       "      <td>88</td>\n",
       "      <td>14</td>\n",
       "      <td>35</td>\n",
       "      <td>42</td>\n",
       "      <td>35</td>\n",
       "      <td>85</td>\n",
       "      <td>299</td>\n",
       "      <td>Male</td>\n",
       "      <td>Dark Horse Comics</td>\n",
       "      <td>191.0</td>\n",
       "      <td>65.0</td>\n",
       "      <td>Icthyo Sapien</td>\n",
       "    </tr>\n",
       "    <tr>\n",
       "      <th>2</th>\n",
       "      <td>Abin Sur</td>\n",
       "      <td>good</td>\n",
       "      <td>50</td>\n",
       "      <td>90</td>\n",
       "      <td>53</td>\n",
       "      <td>64</td>\n",
       "      <td>84</td>\n",
       "      <td>65</td>\n",
       "      <td>406</td>\n",
       "      <td>Male</td>\n",
       "      <td>DC Comics</td>\n",
       "      <td>185.0</td>\n",
       "      <td>90.0</td>\n",
       "      <td>Ungaran</td>\n",
       "    </tr>\n",
       "    <tr>\n",
       "      <th>3</th>\n",
       "      <td>Abomination</td>\n",
       "      <td>bad</td>\n",
       "      <td>63</td>\n",
       "      <td>80</td>\n",
       "      <td>53</td>\n",
       "      <td>90</td>\n",
       "      <td>55</td>\n",
       "      <td>95</td>\n",
       "      <td>436</td>\n",
       "      <td>Male</td>\n",
       "      <td>Marvel Comics</td>\n",
       "      <td>203.0</td>\n",
       "      <td>441.0</td>\n",
       "      <td>Human / Radiation</td>\n",
       "    </tr>\n",
       "    <tr>\n",
       "      <th>4</th>\n",
       "      <td>Abraxas</td>\n",
       "      <td>bad</td>\n",
       "      <td>88</td>\n",
       "      <td>100</td>\n",
       "      <td>83</td>\n",
       "      <td>99</td>\n",
       "      <td>100</td>\n",
       "      <td>56</td>\n",
       "      <td>526</td>\n",
       "      <td>Male</td>\n",
       "      <td>Marvel Comics</td>\n",
       "      <td>-99.0</td>\n",
       "      <td>-99.0</td>\n",
       "      <td>Cosmic Entity</td>\n",
       "    </tr>\n",
       "    <tr>\n",
       "      <th>...</th>\n",
       "      <td>...</td>\n",
       "      <td>...</td>\n",
       "      <td>...</td>\n",
       "      <td>...</td>\n",
       "      <td>...</td>\n",
       "      <td>...</td>\n",
       "      <td>...</td>\n",
       "      <td>...</td>\n",
       "      <td>...</td>\n",
       "      <td>...</td>\n",
       "      <td>...</td>\n",
       "      <td>...</td>\n",
       "      <td>...</td>\n",
       "      <td>...</td>\n",
       "    </tr>\n",
       "    <tr>\n",
       "      <th>595</th>\n",
       "      <td>Yellowjacket</td>\n",
       "      <td>good</td>\n",
       "      <td>88</td>\n",
       "      <td>10</td>\n",
       "      <td>12</td>\n",
       "      <td>28</td>\n",
       "      <td>12</td>\n",
       "      <td>14</td>\n",
       "      <td>164</td>\n",
       "      <td>Male</td>\n",
       "      <td>Marvel Comics</td>\n",
       "      <td>183.0</td>\n",
       "      <td>83.0</td>\n",
       "      <td>Human</td>\n",
       "    </tr>\n",
       "    <tr>\n",
       "      <th>596</th>\n",
       "      <td>Yellowjacket II</td>\n",
       "      <td>good</td>\n",
       "      <td>50</td>\n",
       "      <td>10</td>\n",
       "      <td>35</td>\n",
       "      <td>28</td>\n",
       "      <td>31</td>\n",
       "      <td>28</td>\n",
       "      <td>182</td>\n",
       "      <td>Female</td>\n",
       "      <td>Marvel Comics</td>\n",
       "      <td>165.0</td>\n",
       "      <td>52.0</td>\n",
       "      <td>Human</td>\n",
       "    </tr>\n",
       "    <tr>\n",
       "      <th>597</th>\n",
       "      <td>Ymir</td>\n",
       "      <td>good</td>\n",
       "      <td>50</td>\n",
       "      <td>100</td>\n",
       "      <td>27</td>\n",
       "      <td>100</td>\n",
       "      <td>83</td>\n",
       "      <td>28</td>\n",
       "      <td>388</td>\n",
       "      <td>Male</td>\n",
       "      <td>Marvel Comics</td>\n",
       "      <td>304.8</td>\n",
       "      <td>-99.0</td>\n",
       "      <td>Frost Giant</td>\n",
       "    </tr>\n",
       "    <tr>\n",
       "      <th>598</th>\n",
       "      <td>Zatanna</td>\n",
       "      <td>good</td>\n",
       "      <td>75</td>\n",
       "      <td>10</td>\n",
       "      <td>23</td>\n",
       "      <td>28</td>\n",
       "      <td>100</td>\n",
       "      <td>56</td>\n",
       "      <td>292</td>\n",
       "      <td>Female</td>\n",
       "      <td>DC Comics</td>\n",
       "      <td>170.0</td>\n",
       "      <td>57.0</td>\n",
       "      <td>Human</td>\n",
       "    </tr>\n",
       "    <tr>\n",
       "      <th>599</th>\n",
       "      <td>Zoom</td>\n",
       "      <td>bad</td>\n",
       "      <td>50</td>\n",
       "      <td>10</td>\n",
       "      <td>100</td>\n",
       "      <td>28</td>\n",
       "      <td>72</td>\n",
       "      <td>28</td>\n",
       "      <td>288</td>\n",
       "      <td>Male</td>\n",
       "      <td>DC Comics</td>\n",
       "      <td>185.0</td>\n",
       "      <td>81.0</td>\n",
       "      <td>-</td>\n",
       "    </tr>\n",
       "  </tbody>\n",
       "</table>\n",
       "<p>600 rows × 14 columns</p>\n",
       "</div>"
      ],
      "text/plain": [
       "                Name Alignment  Intelligence  Strength  Speed  Durability  \\\n",
       "0             A-Bomb      good            38       100     17          80   \n",
       "1         Abe Sapien      good            88        14     35          42   \n",
       "2           Abin Sur      good            50        90     53          64   \n",
       "3        Abomination       bad            63        80     53          90   \n",
       "4            Abraxas       bad            88       100     83          99   \n",
       "..               ...       ...           ...       ...    ...         ...   \n",
       "595     Yellowjacket      good            88        10     12          28   \n",
       "596  Yellowjacket II      good            50        10     35          28   \n",
       "597             Ymir      good            50       100     27         100   \n",
       "598          Zatanna      good            75        10     23          28   \n",
       "599             Zoom       bad            50        10    100          28   \n",
       "\n",
       "     Power  Combat  Total  Gender          Publisher  Height  Weight  \\\n",
       "0       17      64    316    Male      Marvel Comics   203.0   441.0   \n",
       "1       35      85    299    Male  Dark Horse Comics   191.0    65.0   \n",
       "2       84      65    406    Male          DC Comics   185.0    90.0   \n",
       "3       55      95    436    Male      Marvel Comics   203.0   441.0   \n",
       "4      100      56    526    Male      Marvel Comics   -99.0   -99.0   \n",
       "..     ...     ...    ...     ...                ...     ...     ...   \n",
       "595     12      14    164    Male      Marvel Comics   183.0    83.0   \n",
       "596     31      28    182  Female      Marvel Comics   165.0    52.0   \n",
       "597     83      28    388    Male      Marvel Comics   304.8   -99.0   \n",
       "598    100      56    292  Female          DC Comics   170.0    57.0   \n",
       "599     72      28    288    Male          DC Comics   185.0    81.0   \n",
       "\n",
       "                  Race  \n",
       "0                Human  \n",
       "1        Icthyo Sapien  \n",
       "2              Ungaran  \n",
       "3    Human / Radiation  \n",
       "4        Cosmic Entity  \n",
       "..                 ...  \n",
       "595              Human  \n",
       "596              Human  \n",
       "597        Frost Giant  \n",
       "598              Human  \n",
       "599                  -  \n",
       "\n",
       "[600 rows x 14 columns]"
      ]
     },
     "execution_count": 10,
     "metadata": {},
     "output_type": "execute_result"
    }
   ],
   "source": [
    "merged_chars"
   ]
  },
  {
   "cell_type": "markdown",
   "metadata": {},
   "source": [
    "inner join 을 활용할 경우 Name이 둘 다에게 들어간 데이터에 대해서만 합치게 된다. "
   ]
  },
  {
   "cell_type": "code",
   "execution_count": 11,
   "metadata": {},
   "outputs": [
    {
     "data": {
      "text/plain": [
       "Name            0\n",
       "Alignment       0\n",
       "Intelligence    0\n",
       "Strength        0\n",
       "Speed           0\n",
       "Durability      0\n",
       "Power           0\n",
       "Combat          0\n",
       "Total           0\n",
       "Gender          0\n",
       "Publisher       7\n",
       "Height          0\n",
       "Weight          0\n",
       "Race            0\n",
       "dtype: int64"
      ]
     },
     "execution_count": 11,
     "metadata": {},
     "output_type": "execute_result"
    }
   ],
   "source": [
    "merged_chars.isna().sum()"
   ]
  },
  {
   "cell_type": "markdown",
   "metadata": {},
   "source": [
    "결측치는 존재하나, 어차피 알 수 없는 캐릭터에 대해서 Publisher를 확인하는 것은 의미가 없으므로 결측치를 무시하고 평균을 계산해도 무방하다. 어차피, groupby에서 잡히지 않는다."
   ]
  },
  {
   "cell_type": "code",
   "execution_count": 12,
   "metadata": {},
   "outputs": [
    {
     "data": {
      "text/plain": [
       "Publisher\n",
       "ABC Studios          166.000000\n",
       "DC Comics            253.436047\n",
       "Dark Horse Comics    196.875000\n",
       "Hanna-Barbera          5.000000\n",
       "HarperCollins          5.000000\n",
       "Icon Comics          148.000000\n",
       "Image Comics          70.615385\n",
       "Marvel Comics        243.851003\n",
       "Microsoft            425.000000\n",
       "NBC - Heroes         140.526316\n",
       "Shueisha             481.500000\n",
       "Sony Pictures        398.000000\n",
       "SyFy                 188.800000\n",
       "Team Epic TV           5.000000\n",
       "Universal Studios    237.000000\n",
       "Wildstorm              5.000000\n",
       "Name: Total, dtype: float64"
      ]
     },
     "execution_count": 12,
     "metadata": {},
     "output_type": "execute_result"
    }
   ],
   "source": [
    "merged_chars['Total'].groupby(by = merged_chars['Publisher']).mean()"
   ]
  },
  {
   "cell_type": "markdown",
   "metadata": {},
   "source": [
    "Shueisha 사 캐릭터의 Total 능력치 평균이 가장 높다. 어떤 캐릭터들이 영광의 주인공(?) 인지 확인해보자"
   ]
  },
  {
   "cell_type": "code",
   "execution_count": 13,
   "metadata": {},
   "outputs": [
    {
     "data": {
      "text/html": [
       "<div>\n",
       "<style scoped>\n",
       "    .dataframe tbody tr th:only-of-type {\n",
       "        vertical-align: middle;\n",
       "    }\n",
       "\n",
       "    .dataframe tbody tr th {\n",
       "        vertical-align: top;\n",
       "    }\n",
       "\n",
       "    .dataframe thead th {\n",
       "        text-align: right;\n",
       "    }\n",
       "</style>\n",
       "<table border=\"1\" class=\"dataframe\">\n",
       "  <thead>\n",
       "    <tr style=\"text-align: right;\">\n",
       "      <th></th>\n",
       "      <th>Name</th>\n",
       "      <th>Alignment</th>\n",
       "      <th>Intelligence</th>\n",
       "      <th>Strength</th>\n",
       "      <th>Speed</th>\n",
       "      <th>Durability</th>\n",
       "      <th>Power</th>\n",
       "      <th>Combat</th>\n",
       "      <th>Total</th>\n",
       "      <th>Gender</th>\n",
       "      <th>Publisher</th>\n",
       "      <th>Height</th>\n",
       "      <th>Weight</th>\n",
       "      <th>Race</th>\n",
       "    </tr>\n",
       "  </thead>\n",
       "  <tbody>\n",
       "    <tr>\n",
       "      <th>246</th>\n",
       "      <td>Goku</td>\n",
       "      <td>good</td>\n",
       "      <td>56</td>\n",
       "      <td>100</td>\n",
       "      <td>75</td>\n",
       "      <td>90</td>\n",
       "      <td>100</td>\n",
       "      <td>100</td>\n",
       "      <td>521</td>\n",
       "      <td>Male</td>\n",
       "      <td>Shueisha</td>\n",
       "      <td>175.0</td>\n",
       "      <td>62.0</td>\n",
       "      <td>Saiyan</td>\n",
       "    </tr>\n",
       "    <tr>\n",
       "      <th>399</th>\n",
       "      <td>Naruto Uzumaki</td>\n",
       "      <td>good</td>\n",
       "      <td>50</td>\n",
       "      <td>80</td>\n",
       "      <td>32</td>\n",
       "      <td>80</td>\n",
       "      <td>100</td>\n",
       "      <td>100</td>\n",
       "      <td>442</td>\n",
       "      <td>Male</td>\n",
       "      <td>Shueisha</td>\n",
       "      <td>168.0</td>\n",
       "      <td>54.0</td>\n",
       "      <td>Human</td>\n",
       "    </tr>\n",
       "  </tbody>\n",
       "</table>\n",
       "</div>"
      ],
      "text/plain": [
       "               Name Alignment  Intelligence  Strength  Speed  Durability  \\\n",
       "246            Goku      good            56       100     75          90   \n",
       "399  Naruto Uzumaki      good            50        80     32          80   \n",
       "\n",
       "     Power  Combat  Total Gender Publisher  Height  Weight    Race  \n",
       "246    100     100    521   Male  Shueisha   175.0    62.0  Saiyan  \n",
       "399    100     100    442   Male  Shueisha   168.0    54.0   Human  "
      ]
     },
     "execution_count": 13,
     "metadata": {},
     "output_type": "execute_result"
    }
   ],
   "source": [
    "merged_chars.loc[merged_chars['Publisher'] == 'Shueisha']"
   ]
  },
  {
   "cell_type": "markdown",
   "metadata": {},
   "source": [
    "단 두개지만, 상당히 강한 캐릭터들을 만든 것으로 보인다. ~~그 와중 나루토가 보인다.~~"
   ]
  },
  {
   "cell_type": "markdown",
   "metadata": {},
   "source": [
    "## Additional 1. Male vs Female"
   ]
  },
  {
   "cell_type": "code",
   "execution_count": 14,
   "metadata": {},
   "outputs": [
    {
     "data": {
      "text/html": [
       "<div>\n",
       "<style scoped>\n",
       "    .dataframe tbody tr th:only-of-type {\n",
       "        vertical-align: middle;\n",
       "    }\n",
       "\n",
       "    .dataframe tbody tr th {\n",
       "        vertical-align: top;\n",
       "    }\n",
       "\n",
       "    .dataframe thead th {\n",
       "        text-align: right;\n",
       "    }\n",
       "</style>\n",
       "<table border=\"1\" class=\"dataframe\">\n",
       "  <thead>\n",
       "    <tr style=\"text-align: right;\">\n",
       "      <th></th>\n",
       "      <th>Intelligence</th>\n",
       "      <th>Strength</th>\n",
       "      <th>Speed</th>\n",
       "      <th>Durability</th>\n",
       "      <th>Power</th>\n",
       "      <th>Combat</th>\n",
       "      <th>Total</th>\n",
       "      <th>Height</th>\n",
       "      <th>Weight</th>\n",
       "    </tr>\n",
       "    <tr>\n",
       "      <th>Gender</th>\n",
       "      <th></th>\n",
       "      <th></th>\n",
       "      <th></th>\n",
       "      <th></th>\n",
       "      <th></th>\n",
       "      <th></th>\n",
       "      <th></th>\n",
       "      <th></th>\n",
       "      <th></th>\n",
       "    </tr>\n",
       "  </thead>\n",
       "  <tbody>\n",
       "    <tr>\n",
       "      <th>-</th>\n",
       "      <td>27.250000</td>\n",
       "      <td>18.375000</td>\n",
       "      <td>18.500000</td>\n",
       "      <td>26.208333</td>\n",
       "      <td>17.625000</td>\n",
       "      <td>22.791667</td>\n",
       "      <td>130.750000</td>\n",
       "      <td>64.916667</td>\n",
       "      <td>33.791667</td>\n",
       "    </tr>\n",
       "    <tr>\n",
       "      <th>Female</th>\n",
       "      <td>42.206250</td>\n",
       "      <td>24.125000</td>\n",
       "      <td>24.231250</td>\n",
       "      <td>34.993750</td>\n",
       "      <td>37.825000</td>\n",
       "      <td>40.325000</td>\n",
       "      <td>203.706250</td>\n",
       "      <td>104.028125</td>\n",
       "      <td>33.393750</td>\n",
       "    </tr>\n",
       "    <tr>\n",
       "      <th>Male</th>\n",
       "      <td>47.762019</td>\n",
       "      <td>32.913462</td>\n",
       "      <td>29.939904</td>\n",
       "      <td>47.060096</td>\n",
       "      <td>43.725962</td>\n",
       "      <td>46.406250</td>\n",
       "      <td>247.807692</td>\n",
       "      <td>108.542067</td>\n",
       "      <td>57.730769</td>\n",
       "    </tr>\n",
       "  </tbody>\n",
       "</table>\n",
       "</div>"
      ],
      "text/plain": [
       "        Intelligence   Strength      Speed  Durability      Power     Combat  \\\n",
       "Gender                                                                         \n",
       "-          27.250000  18.375000  18.500000   26.208333  17.625000  22.791667   \n",
       "Female     42.206250  24.125000  24.231250   34.993750  37.825000  40.325000   \n",
       "Male       47.762019  32.913462  29.939904   47.060096  43.725962  46.406250   \n",
       "\n",
       "             Total      Height     Weight  \n",
       "Gender                                     \n",
       "-       130.750000   64.916667  33.791667  \n",
       "Female  203.706250  104.028125  33.393750  \n",
       "Male    247.807692  108.542067  57.730769  "
      ]
     },
     "execution_count": 14,
     "metadata": {},
     "output_type": "execute_result"
    }
   ],
   "source": [
    "merged_chars.groupby(by = merged_chars['Gender']).mean()"
   ]
  },
  {
   "cell_type": "markdown",
   "metadata": {},
   "source": [
    "대체로 Male Characters들이 Female Character보다 스텟면에서 전체적으로 다 높은것을 확인할 수 있다."
   ]
  },
  {
   "cell_type": "markdown",
   "metadata": {},
   "source": [
    "## Additional 2. Height, Weight의 관계"
   ]
  },
  {
   "cell_type": "markdown",
   "metadata": {},
   "source": [
    "위의 데이터를 보니까 -99가 보인다. -99라는 키는 없고, -99라는 weight는 없다.\n",
    "컨셉에 따라 음수의 값을 가지는 경우가 있다고 하여 우선은 결측치로 처리해보자."
   ]
  },
  {
   "cell_type": "code",
   "execution_count": 19,
   "metadata": {},
   "outputs": [
    {
     "name": "stderr",
     "output_type": "stream",
     "text": [
      "<ipython-input-19-ff52b9e22415>:3: SettingWithCopyWarning: \n",
      "A value is trying to be set on a copy of a slice from a DataFrame\n",
      "\n",
      "See the caveats in the documentation: https://pandas.pydata.org/pandas-docs/stable/user_guide/indexing.html#returning-a-view-versus-a-copy\n",
      "  merged_chars['Height'][i] = np.nan\n",
      "<ipython-input-19-ff52b9e22415>:5: SettingWithCopyWarning: \n",
      "A value is trying to be set on a copy of a slice from a DataFrame\n",
      "\n",
      "See the caveats in the documentation: https://pandas.pydata.org/pandas-docs/stable/user_guide/indexing.html#returning-a-view-versus-a-copy\n",
      "  merged_chars['Weight'][i] = np.nan\n"
     ]
    }
   ],
   "source": [
    "for i in range(0, 600):\n",
    "    if merged_chars['Height'][i] == -99:\n",
    "        merged_chars['Height'][i] = np.nan\n",
    "    if merged_chars['Weight'][i] == -99:\n",
    "        merged_chars['Weight'][i] = np.nan"
   ]
  },
  {
   "cell_type": "code",
   "execution_count": 20,
   "metadata": {},
   "outputs": [
    {
     "data": {
      "text/plain": [
       "Name              0\n",
       "Alignment         0\n",
       "Intelligence      0\n",
       "Strength          0\n",
       "Speed             0\n",
       "Durability        0\n",
       "Power             0\n",
       "Combat            0\n",
       "Total             0\n",
       "Gender            0\n",
       "Publisher         7\n",
       "Height          172\n",
       "Weight          180\n",
       "Race              0\n",
       "dtype: int64"
      ]
     },
     "execution_count": 20,
     "metadata": {},
     "output_type": "execute_result"
    }
   ],
   "source": [
    "merged_chars.isna().sum()"
   ]
  },
  {
   "cell_type": "markdown",
   "metadata": {},
   "source": [
    "종족에 따라, 키/몸무게의 성향이 다를것 같기에, 일단 종족에 대해 정리해보자."
   ]
  },
  {
   "cell_type": "code",
   "execution_count": 21,
   "metadata": {},
   "outputs": [
    {
     "data": {
      "text/plain": [
       "array(['Human', 'Icthyo Sapien', 'Ungaran', 'Human / Radiation',\n",
       "       'Cosmic Entity', '-', 'Android', 'Vampire', 'God / Eternal',\n",
       "       'Symbiote', 'Mutant', 'Atlantean', 'Neyaphem', 'New God', 'Alpha',\n",
       "       'Bizarro', 'Inhuman', 'Demon', 'Alien', 'Human-Kree', 'Cyborg',\n",
       "       'Amazon', 'Human / Cosmic', 'Kryptonian', 'Kakarantharaian',\n",
       "       'Saiyan', 'Flora Colossus', 'Human-Vuldarian', 'Demi-God',\n",
       "       'Eternal', 'Metahuman', 'Bolovaxian', 'Czarnian', 'Asgardian',\n",
       "       'Martian', 'Human / Altered', 'Planet', 'Animal', 'Clone',\n",
       "       'Korugaran', 'Zombie', 'Tamaranean', 'Frost Giant',\n",
       "       'Mutant / Clone'], dtype=object)"
      ]
     },
     "execution_count": 21,
     "metadata": {},
     "output_type": "execute_result"
    }
   ],
   "source": [
    "merged_chars['Race'].unique()"
   ]
  },
  {
   "cell_type": "code",
   "execution_count": 24,
   "metadata": {},
   "outputs": [
    {
     "data": {
      "image/png": "[encoded data removed]",
      "text/plain": [
       "<Figure size 432x288 with 1 Axes>"
      ]
     },
     "metadata": {},
     "output_type": "display_data"
    }
   ],
   "source": [
    "sns.set_style('darkgrid')\n",
    "sns.scatterplot(data = merged_chars, x = 'Height', y = 'Weight')\n",
    "plt.title('Height and Weight')\n",
    "plt.show()"
   ]
  },
  {
   "cell_type": "markdown",
   "metadata": {},
   "source": [
    "일단, 전체적인 산점도를 확인해 본 결과 Height족에서 Outlier가 보여 나머지 분포를 확인하기엔 어렵다.   \n",
    "각 축의 값을 한정시켜보자. \n",
    "(반복이어서 유사한 과정은 생략합니다.)  \n",
    "150 < x < 250, y < 600으로 한정한다."
   ]
  },
  {
   "cell_type": "code",
   "execution_count": 27,
   "metadata": {},
   "outputs": [
    {
     "data": {
      "image/png": "[encoded data removed]",
      "text/plain": [
       "<Figure size 432x288 with 1 Axes>"
      ]
     },
     "metadata": {},
     "output_type": "display_data"
    }
   ],
   "source": [
    "sns.set_style('darkgrid')\n",
    "sns.scatterplot(data = merged_chars, x = 'Height', y = 'Weight')\n",
    "plt.xlim(150,250)\n",
    "plt.ylim(0, 600)\n",
    "plt.title('Height and Weight (LImited Range)')\n",
    "plt.show()"
   ]
  },
  {
   "cell_type": "markdown",
   "metadata": {},
   "source": [
    "특정 구간에 쏠려있는것은 사실이나, 그래도 전체적으로 키가 커질수록, 무게가 늘어나는 경향성을 보여주고 있다."
   ]
  },
  {
   "cell_type": "markdown",
   "metadata": {},
   "source": [
    "그럼, 키/몸무게와 스탯 또한 연관성이 있는지 보려한다. 이 역시 위의 한정된 구간에서만 경향성을 보려고 한다."
   ]
  },
  {
   "cell_type": "code",
   "execution_count": 28,
   "metadata": {},
   "outputs": [
    {
     "data": {
      "image/png": "[encoded data removed]",
      "text/plain": [
       "<Figure size 432x288 with 1 Axes>"
      ]
     },
     "metadata": {},
     "output_type": "display_data"
    }
   ],
   "source": [
    "sns.set_style('darkgrid')\n",
    "sns.scatterplot(data = merged_chars, x = 'Height', y = 'Total')\n",
    "plt.xlim(150,250)\n",
    "plt.title('Height and Total')\n",
    "plt.show()"
   ]
  },
  {
   "cell_type": "code",
   "execution_count": 31,
   "metadata": {},
   "outputs": [
    {
     "data": {
      "image/png": "[encoded data removed]",
      "text/plain": [
       "<Figure size 432x288 with 1 Axes>"
      ]
     },
     "metadata": {},
     "output_type": "display_data"
    }
   ],
   "source": [
    "sns.set_style('darkgrid')\n",
    "sns.scatterplot(data = merged_chars, x = 'Weight', y = 'Total')\n",
    "plt.xlim(0,200)\n",
    "plt.title('Weight(<200) and Total')\n",
    "plt.show()"
   ]
  },
  {
   "cell_type": "markdown",
   "metadata": {},
   "source": [
    "역시 이 또한, 특별한 차이점을 느끼긴 어렵다."
   ]
  },
  {
   "cell_type": "markdown",
   "metadata": {},
   "source": [
    "## Additional 3. 스탯과 관련된 부가 질문들"
   ]
  },
  {
   "cell_type": "markdown",
   "metadata": {},
   "source": [
    "### 질문 1. Strength와 Power는 차이가 없어보이는데..? 두개의 상관관계는?"
   ]
  },
  {
   "cell_type": "code",
   "execution_count": 18,
   "metadata": {},
   "outputs": [
    {
     "data": {
      "image/png": "[encoded data removed]",
      "text/plain": [
       "<Figure size 432x288 with 1 Axes>"
      ]
     },
     "metadata": {},
     "output_type": "display_data"
    }
   ],
   "source": [
    "# 원 데이터인 chars 사용\n",
    "sns.set_style('darkgrid')\n",
    "sns.scatterplot(data = chars, x = 'Strength', y = 'Power', hue = 'Alignment')\n",
    "plt.legend(loc = 'upper right', bbox_to_anchor=(1.25, 1.0))\n",
    "plt.show()"
   ]
  },
  {
   "cell_type": "markdown",
   "metadata": {},
   "source": [
    "그림을 통해 알 수 있는 것은 별 상관관계가 없음을 알 수 있다."
   ]
  },
  {
   "cell_type": "markdown",
   "metadata": {},
   "source": [
    "### 질문 2. 그렇다면, Strengh와 Power중에 어느게 더 Combat과 연관성이 있는가?"
   ]
  },
  {
   "cell_type": "code",
   "execution_count": 112,
   "metadata": {},
   "outputs": [
    {
     "data": {
      "image/png": "[encoded data removed]",
      "text/plain": [
       "<Figure size 432x288 with 1 Axes>"
      ]
     },
     "metadata": {},
     "output_type": "display_data"
    }
   ],
   "source": [
    "sns.set_style('darkgrid')\n",
    "sns.scatterplot(data = chars, x = 'Strength', y = 'Combat', hue = 'Alignment')\n",
    "plt.legend(loc = 'upper right', bbox_to_anchor=(1.25, 1.0))\n",
    "plt.show()"
   ]
  },
  {
   "cell_type": "code",
   "execution_count": 113,
   "metadata": {},
   "outputs": [
    {
     "data": {
      "image/png": "[encoded data removed]",
      "text/plain": [
       "<Figure size 432x288 with 1 Axes>"
      ]
     },
     "metadata": {},
     "output_type": "display_data"
    }
   ],
   "source": [
    "sns.set_style('darkgrid')\n",
    "sns.scatterplot(data = chars, x = 'Power', y = 'Combat', hue = 'Alignment')\n",
    "plt.legend(loc = 'upper right', bbox_to_anchor=(1.25, 1.0))\n",
    "plt.show()"
   ]
  },
  {
   "cell_type": "markdown",
   "metadata": {},
   "source": [
    "이 또한 두 스탯 모두 combat과 크게 연관이 없음을 알 수 있다."
   ]
  },
  {
   "cell_type": "markdown",
   "metadata": {},
   "source": [
    "### 질문 3. 종족에 따른 Total Stat 표시"
   ]
  },
  {
   "cell_type": "code",
   "execution_count": 35,
   "metadata": {},
   "outputs": [
    {
     "data": {
      "image/png": "[encoded data removed]",
      "text/plain": [
       "<Figure size 864x1728 with 1 Axes>"
      ]
     },
     "metadata": {},
     "output_type": "display_data"
    }
   ],
   "source": [
    "# 종족정보가 있는 merged_사용\n",
    "plt.figure(figsize = (12, 24))\n",
    "sns.barplot(x = 'Total', y = 'Race', data = merged_chars)\n",
    "plt.title('Raced and Total Stats')\n",
    "plt.show()"
   ]
  },
  {
   "cell_type": "code",
   "execution_count": null,
   "metadata": {},
   "outputs": [],
   "source": []
  }
 ],
 "metadata": {
  "kernelspec": {
   "display_name": "Python 3",
   "language": "python",
   "name": "python3"
  },
  "language_info": {
   "codemirror_mode": {
    "name": "ipython",
    "version": 3
   },
   "file_extension": ".py",
   "mimetype": "text/x-python",
   "name": "python",
   "nbconvert_exporter": "python",
   "pygments_lexer": "ipython3",
   "version": "3.8.5"
  }
 },
 "nbformat": 4,
 "nbformat_minor": 4
}
